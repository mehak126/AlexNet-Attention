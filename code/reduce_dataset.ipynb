{
 "cells": [
  {
   "cell_type": "code",
   "execution_count": null,
   "metadata": {
    "collapsed": true
   },
   "outputs": [],
   "source": [
    "import numpy as np\n",
    "import scipy.misc\n",
    "import imageio\n",
    "import skimage\n",
    "import os\n",
    "import time\n",
    "import cv2\n",
    "import pickle\n",
    "from collections import Counter\n",
    "import matplotlib.pyplot as plt"
   ]
  },
  {
   "cell_type": "code",
   "execution_count": null,
   "metadata": {
    "collapsed": true
   },
   "outputs": [],
   "source": [
    "num_images = 50\n",
    "label_file = '../data/old/preprocessed_test.csv'"
   ]
  },
  {
   "cell_type": "code",
   "execution_count": null,
   "metadata": {
    "collapsed": true
   },
   "outputs": [],
   "source": [
    "fr = open(label_file, 'r')\n",
    "labels = fr.read().split('\\n')\n",
    "fr.close()"
   ]
  },
  {
   "cell_type": "code",
   "execution_count": null,
   "metadata": {
    "collapsed": true
   },
   "outputs": [],
   "source": [
    "labels_done = Counter()\n",
    "dest_folder = '../data/filtered_test'\n",
    "dest_file = '../data/filtered_test.csv'\n",
    "source_folder = '../data/old/preprocessed_test'"
   ]
  },
  {
   "cell_type": "code",
   "execution_count": null,
   "metadata": {
    "collapsed": true
   },
   "outputs": [],
   "source": [
    "labels.remove('')"
   ]
  },
  {
   "cell_type": "code",
   "execution_count": null,
   "metadata": {},
   "outputs": [],
   "source": [
    "labels[len(labels)-1]"
   ]
  },
  {
   "cell_type": "code",
   "execution_count": null,
   "metadata": {},
   "outputs": [],
   "source": [
    "fw = open(dest_file,'w')\n",
    "counter = 0\n",
    "for count, lab in enumerate(labels):\n",
    "    if lab == '':\n",
    "        continue\n",
    "    if labels_done[lab] < num_images:\n",
    "        if counter % 100 == 0:\n",
    "            print(\"Counter.. \" + str(counter/100))\n",
    "        fw.write(lab + '\\n')\n",
    "        image_path = source_folder + '/' + str(count) + '.png'\n",
    "        dest_path = dest_folder + '/' + str(counter) + '.png'\n",
    "        os.system('cp ' + image_path + \" \" + dest_path)\n",
    "        counter += 1\n",
    "        labels_done[lab] = labels_done[lab] + 1\n",
    "fw.close()"
   ]
  },
  {
   "cell_type": "code",
   "execution_count": null,
   "metadata": {},
   "outputs": [],
   "source": [
    "labels_done"
   ]
  },
  {
   "cell_type": "code",
   "execution_count": null,
   "metadata": {
    "collapsed": true
   },
   "outputs": [],
   "source": []
  }
 ],
 "metadata": {
  "kernelspec": {
   "display_name": "Python 3",
   "language": "python",
   "name": "python3"
  },
  "language_info": {
   "codemirror_mode": {
    "name": "ipython",
    "version": 3
   },
   "file_extension": ".py",
   "mimetype": "text/x-python",
   "name": "python",
   "nbconvert_exporter": "python",
   "pygments_lexer": "ipython3",
   "version": "3.6.3"
  }
 },
 "nbformat": 4,
 "nbformat_minor": 2
}
