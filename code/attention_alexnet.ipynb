{
 "cells": [
  {
   "cell_type": "code",
   "execution_count": null,
   "metadata": {
    "collapsed": true
   },
   "outputs": [],
   "source": [
    "import matplotlib.pyplot as plt\n",
    "import numpy as np\n",
    "import scipy.misc\n",
    "import imageio\n",
    "import skimage\n",
    "import os\n",
    "import time\n",
    "import cv2"
   ]
  },
  {
   "cell_type": "code",
   "execution_count": null,
   "metadata": {},
   "outputs": [],
   "source": [
    "import tensorflow as tf\n",
    "import tensorflow.contrib.eager as tfe\n",
    "tf.enable_eager_execution()"
   ]
  },
  {
   "cell_type": "code",
   "execution_count": null,
   "metadata": {
    "collapsed": true
   },
   "outputs": [],
   "source": [
    "tf.set_random_seed(42)"
   ]
  },
  {
   "cell_type": "code",
   "execution_count": null,
   "metadata": {
    "collapsed": true
   },
   "outputs": [],
   "source": [
    "num_images = 10\n",
    "num_classes = 10\n",
    "folder_path = '../data/filtered_train'\n",
    "label_path = '../data/filtered_train.csv'\n",
    "batch_size = 128\n",
    "valid_folder = '../data/filtered_valid'\n",
    "valid_label = '../data/filtered_valid.csv'\n",
    "compat_fun = 'pc' #dp or pc\n",
    "class_mode = 'indep' #concat or indep"
   ]
  },
  {
   "cell_type": "code",
   "execution_count": null,
   "metadata": {
    "collapsed": true
   },
   "outputs": [],
   "source": [
    "logging = tf.logging\n",
    "logging.set_verbosity(logging.INFO)\n",
    "\n",
    "def log_msg(msg):\n",
    "   logging.info(f'{time.ctime()}: {msg}')"
   ]
  },
  {
   "cell_type": "code",
   "execution_count": null,
   "metadata": {
    "collapsed": true
   },
   "outputs": [],
   "source": [
    "def cifar_dataset(image_folder_path, label_file, b_size, num_images):\n",
    "#     images\n",
    "    all_images = []\n",
    "    for i in range(num_images):\n",
    "        image_path = image_folder_path + '/' + str(i) + '.png'\n",
    "        img = imageio.imread(image_path)\n",
    "        img = (img - img.mean()) / img.std()\n",
    "        all_images.append(img)\n",
    "        if i%1000 == 0:\n",
    "            print(\"Processed \" + str(i))\n",
    "        \n",
    "    all_images = np.array(all_images)\n",
    "    all_images = all_images.reshape((-1,256,256,3))\n",
    "    \n",
    "    dataset = tf.data.Dataset.from_tensor_slices((all_images)).batch(b_size)\n",
    "    \n",
    "#     labels\n",
    "    lf = open(label_file,'r')\n",
    "    labels = lf.read().split('\\n')\n",
    "    labels.remove('')\n",
    "    labels = list(map(int, labels))\n",
    "    print(len(labels))\n",
    "    labels = labels[:num_images]\n",
    "    labels = np.array(labels)\n",
    "    all_labels = tf.data.Dataset.from_tensor_slices((labels)).batch(b_size)\n",
    "            \n",
    "    return dataset, all_labels  "
   ]
  },
  {
   "cell_type": "code",
   "execution_count": null,
   "metadata": {
    "collapsed": true
   },
   "outputs": [],
   "source": [
    "class Convolution(tf.keras.Model):\n",
    "    def __init__(self, filters, size, stride, padding, activation, initializer ):\n",
    "        super(Convolution, self).__init__()\n",
    "        self.conv = tf.layers.Conv2D(filters=filters, kernel_size=size, strides=stride, padding=padding, activation=activation, kernel_initializer=initializer)\n",
    "#         self.conv = tf.layers.Conv2D(filters=filters, kernel_size=size, strides=stride, padding=padding, activation=activation)\n",
    "    \n",
    "    def call(self, inp):\n",
    "        return self.conv(inp)\n",
    "        "
   ]
  },
  {
   "cell_type": "code",
   "execution_count": null,
   "metadata": {
    "collapsed": true
   },
   "outputs": [],
   "source": [
    "class MaxPool(tf.keras.Model):\n",
    "    def __init__(self, size, stride, padding):\n",
    "        super(MaxPool, self).__init__()\n",
    "        self.pool = tf.layers.MaxPooling2D(pool_size = size, strides =stride, padding = padding)\n",
    "    \n",
    "    def call(self, inp):\n",
    "        return self.pool(inp)"
   ]
  },
  {
   "cell_type": "code",
   "execution_count": null,
   "metadata": {
    "collapsed": true
   },
   "outputs": [],
   "source": [
    "class Dense(tf.keras.Model):\n",
    "    def __init__(self, size, activation):\n",
    "        super(Dense, self).__init__()\n",
    "        self.fc = tf.layers.Dense(size, activation = activation)\n",
    "    \n",
    "    def call(self, inp):\n",
    "        return self.fc(inp)"
   ]
  },
  {
   "cell_type": "code",
   "execution_count": null,
   "metadata": {
    "collapsed": true
   },
   "outputs": [],
   "source": [
    "def get_compatibility(v1, v2, compat_fun, u):\n",
    "    if compat_fun == 'dp':\n",
    "        scores = tf.einsum('bse,be->bs', tf.cast(v1, tf.float32) , tf.cast(v2, tf.float32) )\n",
    "    elif compat_fun == 'pc':\n",
    "        scores = tf.add(tf.transpose(v1,perm = [0,2,1]), tf.reshape(v2, [-1, v2.shape[1], 1]) )\n",
    "        scores = tf.transpose(scores, perm = [0,2,1])\n",
    "        \n",
    "    return scores\n",
    "    "
   ]
  },
  {
   "cell_type": "code",
   "execution_count": null,
   "metadata": {
    "collapsed": true
   },
   "outputs": [],
   "source": [
    "class Attention(tf.keras.Model):\n",
    "    def __init__(self, size):\n",
    "        super(Attention, self).__init__()\n",
    "        self.fc = Dense(size, None) #linear transformation\n",
    "        self.u = Dense(size, None) #none??\n",
    "        \n",
    "    def call(self, inp, g, compat_fun):\n",
    "        vec = tf.reshape(inp, [-1, inp.shape[1]*inp.shape[2], inp.shape[3]])\n",
    "        transformed = self.fc(vec)\n",
    "        c = get_compatibility(transformed, g, compat_fun, self.u)\n",
    "        if compat_fun == 'pc':\n",
    "            temp = self.u(c)\n",
    "            summed = tf.reduce_sum(temp, axis = 2)\n",
    "            c_scores = summed\n",
    "        else:\n",
    "            c_scores = c\n",
    "        soft = tf.nn.softmax(c_scores)\n",
    "        \n",
    "        \n",
    "        soft = tf.reshape(soft, [-1, soft.shape[1], 1]) #<-- final scores\n",
    "        \n",
    "        weighted = tf.multiply(soft, vec)\n",
    "        summed = tf.reduce_sum(weighted, axis = 1)\n",
    "        return summed, c_scores\n",
    "    "
   ]
  },
  {
   "cell_type": "code",
   "execution_count": null,
   "metadata": {
    "collapsed": true
   },
   "outputs": [],
   "source": [
    "def lrn(x, radius, alpha, beta, bias=1.0):\n",
    "#     return tf.nn.local_response_normalization(x, depth_radius = radius, alpha = alpha, beta = beta, bias = bias)\n",
    "    return tf.nn.lrn(x, depth_radius = radius, alpha = alpha, beta = beta, bias = bias)"
   ]
  },
  {
   "cell_type": "code",
   "execution_count": null,
   "metadata": {
    "collapsed": true
   },
   "outputs": [],
   "source": [
    "class AlexNet(tf.keras.Model):\n",
    "    def __init__(self):\n",
    "        super(AlexNet, self).__init__()\n",
    "        self.conv1 = Convolution(96,11,4,'VALID',tf.nn.relu, tf.truncated_normal_initializer(stddev=0.01))\n",
    "        self.pool1 = MaxPool(3,2, 'VALID')\n",
    "        \n",
    "        self.conv2 = Convolution(256,5,1,'SAME',tf.nn.relu, tf.truncated_normal_initializer(stddev=0.01))\n",
    "        self.pool2 = MaxPool(3,2, 'VALID') \n",
    "        \n",
    "        self.conv3 = Convolution(384,3,1,'SAME',tf.nn.relu, tf.truncated_normal_initializer(stddev=0.01))\n",
    "        \n",
    "        self.conv4 = Convolution(384,3,1,'SAME',tf.nn.relu, tf.truncated_normal_initializer(stddev=0.01))\n",
    "        \n",
    "        self.conv5 = Convolution(256,3,1,'SAME',tf.nn.relu, tf.truncated_normal_initializer(stddev=0.01))\n",
    "        self.pool5 = MaxPool(3,2,'VALID')\n",
    "        \n",
    "        self.g = Dense(256, None)\n",
    "        self.att1 = Attention(256)\n",
    "        self.att2 = Attention(256)\n",
    "        \n",
    "        self.fc = Dense(num_classes, None)\n",
    "        self.fc2 = Dense(num_classes, None)\n",
    "        \n",
    "        \n",
    "#         to be replaced with attention\n",
    "#         self.fc6 = tf.layers.Dense(4096, activation = tf.nn.relu)\n",
    "#         self.fc7 = tf.layers.Dense(4096, activation = tf.nn.relu)\n",
    "#         self.fc8 = tf.layers.Dense(num_classes)\n",
    "    \n",
    "    def call(self, image, compat_fun):\n",
    "#         compat_fun : dp - dot product\n",
    "#                      pc - parameterised compatibility\n",
    "        \n",
    "        conv1 = self.conv1(image)\n",
    "        pool1 = self.pool1(conv1)\n",
    "        norm1 = lrn( tf.cast(pool1, dtype = tf.float32), 2, 2e-05, 0.75)\n",
    "#         norm1 = tf.layers.batch_normalization(tf.cast(pool1, dtype = tf.float32))\n",
    "        \n",
    "        conv2 = self.conv2(norm1)\n",
    "        pool2 = self.pool2(conv2)\n",
    "        norm2 = lrn( tf.cast(pool2, dtype = tf.float32), 2, 2e-05, 0.75)\n",
    "#         norm2 = tf.layers.batch_normalization(tf.cast(pool1, dtype = tf.float32))\n",
    "        \n",
    "        conv3 = self.conv3(norm2)\n",
    "        \n",
    "        conv4 = self.conv4(conv3)\n",
    "        \n",
    "        conv5 = self.conv5(conv4)\n",
    "        pool5 = self.pool5(conv5)\n",
    "        \n",
    "        g = self.g(tf.layers.flatten(pool5))\n",
    "        \n",
    "        att1, scores1 = self.att1(conv4,g,compat_fun)\n",
    "        att2, scores2 = self.att2(conv5,g,compat_fun)\n",
    "        \n",
    "        if class_mode == 'concat':\n",
    "            concat = tf.concat([tf.layers.flatten(att1) , tf.layers.flatten(att2)], axis = 1)\n",
    "            fc = self.fc(concat)\n",
    "        elif class_mode == 'indep':\n",
    "            fc1 = self.fc(tf.layers.flatten(att1))\n",
    "            fc2 = self.fc2(tf.layers.flatten(att2))\n",
    "            fc = tf.add(fc1,fc2)/2\n",
    "          \n",
    "        return fc, scores1, scores2\n",
    "        \n",
    "    "
   ]
  },
  {
   "cell_type": "code",
   "execution_count": null,
   "metadata": {
    "collapsed": true
   },
   "outputs": [],
   "source": [
    "def prediction_loss_fun(model, data, labels, compat_fun):\n",
    "    logits, scores1, scores2 = model(data, compat_fun)\n",
    "    loss = tf.nn.sparse_softmax_cross_entropy_with_logits(logits=logits, labels=labels)\n",
    "#     return tf.reduce_sum(loss)/tf.cast(data.shape[0], dtype = tf.float32)\n",
    "    return tf.reduce_mean(loss)"
   ]
  },
  {
   "cell_type": "code",
   "execution_count": null,
   "metadata": {
    "collapsed": true
   },
   "outputs": [],
   "source": [
    "def get_accuracy(model, data, labels):\n",
    "    logits, s1, s2 = model(data, compat_fun)\n",
    "    pred = tf.nn.softmax(logits)\n",
    "#     print(\"predicted..\")\n",
    "#     print(tf.argmax(pred, axis=1))\n",
    "#     print(\"actual..\")\n",
    "#     print(labels)\n",
    "    accuracy_val = tf.reduce_sum( tf.cast( tf.equal( tf.argmax(pred, axis=1), labels),dtype=tf.float32))/float(pred.shape[0].value)\n",
    "    return accuracy_val"
   ]
  },
  {
   "cell_type": "code",
   "execution_count": null,
   "metadata": {
    "collapsed": true
   },
   "outputs": [],
   "source": [
    "def shuffle_data(data, label):\n",
    "    idx = np.random.permutation(data.shape[0].value)\n",
    "    \n",
    "    datum = np.array(data)[idx]\n",
    "    datum = tf.convert_to_tensor(datum)\n",
    "    \n",
    "    lab = np.array(label)[idx]\n",
    "    lab = tf.convert_to_tensor(lab)\n",
    "    \n",
    "    return datum, lab"
   ]
  },
  {
   "cell_type": "code",
   "execution_count": null,
   "metadata": {
    "collapsed": true
   },
   "outputs": [],
   "source": [
    "def get_valid_acc(model, dataset, labels):\n",
    "    valid_acc = 0\n",
    "    valid_loss = 0\n",
    "    count = 0\n",
    "    for datum,lab in zip(dataset,labels):\n",
    "        count += 1\n",
    "        valid_loss += prediction_loss_fun(anet, datum, lab).numpy()\n",
    "        valid_acc += get_accuracy(anet, datum, lab).numpy()\n",
    "    return valid_loss/count, valid_acc/count"
   ]
  },
  {
   "cell_type": "code",
   "execution_count": null,
   "metadata": {
    "scrolled": true
   },
   "outputs": [],
   "source": [
    "dataset, labels = cifar_dataset(folder_path, label_path, batch_size, num_images)\n",
    "valid_data, val_labels = cifar_dataset(valid_folder, valid_label, 10, 10)\n",
    "val_data = next(iter(valid_data))\n",
    "val_lab = next(iter(val_labels))"
   ]
  },
  {
   "cell_type": "code",
   "execution_count": null,
   "metadata": {
    "collapsed": true
   },
   "outputs": [],
   "source": [
    "opt = tf.train.AdamOptimizer(learning_rate = 1e-4)"
   ]
  },
  {
   "cell_type": "code",
   "execution_count": null,
   "metadata": {
    "collapsed": true
   },
   "outputs": [],
   "source": [
    "anet = AlexNet()"
   ]
  },
  {
   "cell_type": "code",
   "execution_count": null,
   "metadata": {
    "collapsed": true
   },
   "outputs": [],
   "source": [
    "loss_and_grads_fun = tfe.implicit_value_and_gradients(prediction_loss_fun)"
   ]
  },
  {
   "cell_type": "code",
   "execution_count": null,
   "metadata": {
    "collapsed": true
   },
   "outputs": [],
   "source": [
    "checkpoint_dir = '..checkpoints/attention_alexnet_' + compat_fun + '_' + class_mode\n",
    "checkpoint_prefix = os.path.join(checkpoint_dir, 'ckpt')\n",
    "root = tfe.Checkpoint(optimizer=opt, model=anet, optimizer_step=tf.train.get_or_create_global_step())"
   ]
  },
  {
   "cell_type": "code",
   "execution_count": null,
   "metadata": {},
   "outputs": [],
   "source": [
    "valid_loss = prediction_loss_fun(anet, val_data, val_lab, compat_fun).numpy()\n",
    "acc = get_accuracy(anet, val_data, val_lab).numpy()*100\n",
    "log_msg(f'Initial Valid loss: {valid_loss: 0.4f} accuracy: {acc: f}%')"
   ]
  },
  {
   "cell_type": "code",
   "execution_count": null,
   "metadata": {},
   "outputs": [],
   "source": [
    "root.restore(tf.train.latest_checkpoint(checkpoint_dir))"
   ]
  },
  {
   "cell_type": "code",
   "execution_count": null,
   "metadata": {
    "scrolled": true
   },
   "outputs": [],
   "source": [
    "NUM_EPOCHS = 15\n",
    "STATS_STEPS = 1\n",
    "\n",
    "\n",
    "\n",
    "for epoch_num in range(NUM_EPOCHS):\n",
    "    print(\"Epoch: \" + str(epoch_num))\n",
    "    step_num = 0\n",
    "    for data, label in zip(dataset, labels):\n",
    "        step_num += 1\n",
    "        datum, lab = shuffle_data(data, label)\n",
    "        \n",
    "        loss_value, gradients = loss_and_grads_fun(anet, datum, lab, compat_fun)\n",
    "        \n",
    "        if step_num % STATS_STEPS == 0:\n",
    "            print(\"Stat step.. \" + str(step_num))\n",
    "            loss = prediction_loss_fun(anet, datum, lab, compat_fun).numpy()\n",
    "            accuracy = get_accuracy(anet, datum, lab).numpy()*100\n",
    "            log_msg(f'Epoch: {epoch_num} Step: {step_num} Train loss: {loss: 0.4f} accuracy: {accuracy: f}%')\n",
    "            loss = prediction_loss_fun(anet, val_data, val_lab, compat_fun).numpy()\n",
    "            accuracy = get_accuracy(anet, val_data, val_lab).numpy()*100\n",
    "            log_msg(f'Epoch: {epoch_num} Step: {step_num} Valid loss: {loss: 0.4f} accuracy: {accuracy: f}%')\n",
    "\n",
    "            if loss < valid_loss:\n",
    "                print(\"Improvement in validation loss. Saving..\")\n",
    "                valid_loss = loss\n",
    "                save_path = root.save(checkpoint_prefix)\n",
    "            \n",
    "            \n",
    "        \n",
    "        opt.apply_gradients(gradients, global_step=tf.train.get_or_create_global_step())\n",
    "        \n",
    "        \n",
    "\n",
    "    print(f'Epoch{epoch_num} Done!')"
   ]
  },
  {
   "cell_type": "code",
   "execution_count": null,
   "metadata": {
    "collapsed": true
   },
   "outputs": [],
   "source": [
    "# anet.save_weights('../checkpoint/my_checkpoint')"
   ]
  },
  {
   "cell_type": "code",
   "execution_count": null,
   "metadata": {
    "collapsed": true
   },
   "outputs": [],
   "source": [
    "# visualisation part"
   ]
  },
  {
   "cell_type": "code",
   "execution_count": null,
   "metadata": {
    "collapsed": true
   },
   "outputs": [],
   "source": [
    "def get_correct_predictions(logits, labels):\n",
    "    pred = tf.nn.softmax(logits)\n",
    "    predictions = tf.cast( tf.equal( tf.argmax(pred, axis=1), labels),dtype=tf.float32).numpy()\n",
    "    correct = np.where(predictions)\n",
    "    return correct"
   ]
  },
  {
   "cell_type": "code",
   "execution_count": null,
   "metadata": {
    "collapsed": true
   },
   "outputs": [],
   "source": [
    "iterator = iter(dataset)\n",
    "it2 = iter(labels)"
   ]
  },
  {
   "cell_type": "code",
   "execution_count": null,
   "metadata": {
    "collapsed": true
   },
   "outputs": [],
   "source": [
    "datum = next(iterator)\n",
    "lab = next(it2)"
   ]
  },
  {
   "cell_type": "code",
   "execution_count": null,
   "metadata": {
    "collapsed": true
   },
   "outputs": [],
   "source": [
    "logits, scores1, scores2 = anet(datum, compat_fun)"
   ]
  },
  {
   "cell_type": "code",
   "execution_count": null,
   "metadata": {
    "collapsed": true
   },
   "outputs": [],
   "source": [
    "correct_images = get_correct_predictions(logits,lab)"
   ]
  },
  {
   "cell_type": "code",
   "execution_count": null,
   "metadata": {
    "collapsed": true
   },
   "outputs": [],
   "source": [
    "scores1 = tf.reshape(scores1, [-1,scores1.shape[1]])\n",
    "scores2 = tf.reshape(scores2, [-1,scores2.shape[1]])"
   ]
  },
  {
   "cell_type": "code",
   "execution_count": null,
   "metadata": {},
   "outputs": [],
   "source": [
    "correct_images"
   ]
  },
  {
   "cell_type": "code",
   "execution_count": null,
   "metadata": {
    "collapsed": true
   },
   "outputs": [],
   "source": [
    "# 9,14,16 -> validation train"
   ]
  },
  {
   "cell_type": "code",
   "execution_count": null,
   "metadata": {
    "collapsed": true
   },
   "outputs": [],
   "source": [
    "batch_num = 0\n",
    "image_num = 8"
   ]
  },
  {
   "cell_type": "code",
   "execution_count": null,
   "metadata": {
    "collapsed": true
   },
   "outputs": [],
   "source": [
    "att_map1 = scores1[image_num].numpy().reshape([14,14])\n",
    "att_map2 = scores2[image_num].numpy().reshape([14,14])"
   ]
  },
  {
   "cell_type": "code",
   "execution_count": null,
   "metadata": {
    "collapsed": true
   },
   "outputs": [],
   "source": [
    "image_path = '../data/filtered_valid/' + str(batch_num*batch_size + image_num) + '.png'"
   ]
  },
  {
   "cell_type": "code",
   "execution_count": null,
   "metadata": {},
   "outputs": [],
   "source": [
    "heatmap1 = np.array(np.repeat(att_map1.reshape(14,14,1), 3, axis = 2))\n",
    "heatmap2 = np.array(np.repeat(att_map2.reshape(14,14,1), 3, axis = 2))\n",
    "imageio.imsave('./heatmap1.png', (heatmap1))\n",
    "imageio.imsave('./heatmap2.png', (heatmap2))"
   ]
  },
  {
   "cell_type": "code",
   "execution_count": null,
   "metadata": {
    "collapsed": true
   },
   "outputs": [],
   "source": [
    "# image = cv2.resize(cv2.imread(image_path), (14,14))\n",
    "# heatmap1 = cv2.imread('./heatmap1.png')\n",
    "# heatmap2 = cv2.imread('./heatmap2.png')\n",
    "# heatmap1 = cv2.applyColorMap(heatmap1, cv2.COLORMAP_JET)\n",
    "# heatmap2 = cv2.applyColorMap(heatmap2, cv2.COLORMAP_JET)\n",
    "# fin1 = cv2.addWeighted(heatmap1, 0.4, image, 0.6, 0)\n",
    "# fin2 = cv2.addWeighted(heatmap2, 0.4, image, 0.6, 0)\n",
    "# plt.imshow(fin1)\n",
    "# plt.imshow(fin2)"
   ]
  },
  {
   "cell_type": "code",
   "execution_count": null,
   "metadata": {
    "collapsed": true
   },
   "outputs": [],
   "source": [
    "# method 2-> keep image original size, resize map"
   ]
  },
  {
   "cell_type": "code",
   "execution_count": null,
   "metadata": {
    "collapsed": true
   },
   "outputs": [],
   "source": [
    "heatmap1_r = cv2.resize(cv2.imread('./heatmap1.png'), (256,256))\n",
    "heatmap2_r = cv2.resize(cv2.imread('./heatmap2.png'), (256,256))"
   ]
  },
  {
   "cell_type": "code",
   "execution_count": null,
   "metadata": {
    "collapsed": true
   },
   "outputs": [],
   "source": [
    "image_r = cv2.imread(image_path)"
   ]
  },
  {
   "cell_type": "code",
   "execution_count": null,
   "metadata": {},
   "outputs": [],
   "source": [
    "plt.imshow(image_r)"
   ]
  },
  {
   "cell_type": "code",
   "execution_count": null,
   "metadata": {
    "collapsed": true
   },
   "outputs": [],
   "source": [
    "heatmap1_r = cv2.applyColorMap(heatmap1_r, cv2.COLORMAP_JET)\n",
    "heatmap2_r = cv2.applyColorMap(heatmap2_r, cv2.COLORMAP_JET)\n",
    "fin1_r = cv2.addWeighted(heatmap1_r, 0.4, image_r, 0.6, 0)\n",
    "fin2_r = cv2.addWeighted(heatmap2_r, 0.4, image_r, 0.6, 0)"
   ]
  },
  {
   "cell_type": "code",
   "execution_count": null,
   "metadata": {},
   "outputs": [],
   "source": [
    "plt.imshow(fin1_r)"
   ]
  },
  {
   "cell_type": "code",
   "execution_count": null,
   "metadata": {},
   "outputs": [],
   "source": [
    "plt.imshow(fin2_r)"
   ]
  },
  {
   "cell_type": "code",
   "execution_count": null,
   "metadata": {},
   "outputs": [],
   "source": [
    "# check test accuracy\n",
    "test_folder = '../data/filtered_test'\n",
    "test_file = '../data/filtered_test.csv'\n",
    "test_data, test_labels = cifar_dataset(test_folder, test_file, 500, 500)\n",
    "test_data = next(iter(test_data))\n",
    "test_lab = next(iter(test_labels))"
   ]
  },
  {
   "cell_type": "code",
   "execution_count": null,
   "metadata": {
    "collapsed": true
   },
   "outputs": [],
   "source": [
    "loss = prediction_loss_fun(anet, test_data, test_lab, compat_fun).numpy()"
   ]
  },
  {
   "cell_type": "code",
   "execution_count": null,
   "metadata": {
    "collapsed": true
   },
   "outputs": [],
   "source": [
    "accuracy = get_accuracy(anet, test_data, test_lab).numpy()*100"
   ]
  },
  {
   "cell_type": "code",
   "execution_count": null,
   "metadata": {},
   "outputs": [],
   "source": [
    "print(loss)\n",
    "print(accuracy)"
   ]
  },
  {
   "cell_type": "code",
   "execution_count": null,
   "metadata": {},
   "outputs": [],
   "source": [
    "log_msg(f'Test loss: {loss: 0.4f} accuracy: {accuracy: f}%')"
   ]
  },
  {
   "cell_type": "code",
   "execution_count": null,
   "metadata": {
    "collapsed": true
   },
   "outputs": [],
   "source": [
    "imageio.imsave('../images/image_r.png', (cv2.resize(image_r, (256,256) )))\n",
    "imageio.imsave('../images/fin1_r.png', (cv2.resize(fin1_r, (256,256) )))\n",
    "imageio.imsave('../images/fin2_r.png', (cv2.resize(fin2_r, (256,256) )))"
   ]
  },
  {
   "cell_type": "code",
   "execution_count": null,
   "metadata": {
    "collapsed": true
   },
   "outputs": [],
   "source": []
  }
 ],
 "metadata": {
  "kernelspec": {
   "display_name": "Python 3",
   "language": "python",
   "name": "python3"
  },
  "language_info": {
   "codemirror_mode": {
    "name": "ipython",
    "version": 3
   },
   "file_extension": ".py",
   "mimetype": "text/x-python",
   "name": "python",
   "nbconvert_exporter": "python",
   "pygments_lexer": "ipython3",
   "version": "3.6.3"
  }
 },
 "nbformat": 4,
 "nbformat_minor": 2
}
