{
 "cells": [
  {
   "cell_type": "code",
   "execution_count": null,
   "metadata": {
    "collapsed": true
   },
   "outputs": [],
   "source": [
    "import matplotlib.pyplot as plt\n",
    "import numpy as np\n",
    "import scipy.misc\n",
    "import imageio\n",
    "import skimage\n",
    "import os,time\n",
    "import pickle"
   ]
  },
  {
   "cell_type": "code",
   "execution_count": null,
   "metadata": {},
   "outputs": [],
   "source": [
    "import tensorflow as tf\n",
    "import tensorflow.contrib.eager as tfe\n",
    "tf.enable_eager_execution()"
   ]
  },
  {
   "cell_type": "code",
   "execution_count": null,
   "metadata": {
    "collapsed": true
   },
   "outputs": [],
   "source": [
    "tf.set_random_seed(42)"
   ]
  },
  {
   "cell_type": "code",
   "execution_count": null,
   "metadata": {
    "collapsed": true
   },
   "outputs": [],
   "source": [
    "logging = tf.logging\n",
    "logging.set_verbosity(logging.INFO)\n",
    "\n",
    "def log_msg(msg):\n",
    "   logging.info(f'{time.ctime()}: {msg}')"
   ]
  },
  {
   "cell_type": "code",
   "execution_count": null,
   "metadata": {
    "collapsed": true
   },
   "outputs": [],
   "source": [
    "num_images = 1000\n",
    "num_classes = 10\n",
    "folder_path = '../data/filtered_train'\n",
    "label_path = '../data/filtered_train.csv'\n",
    "batch_size = 128\n",
    "valid_folder = '../data/filtered_valid'\n",
    "valid_label = '../data/filtered_valid.csv'"
   ]
  },
  {
   "cell_type": "code",
   "execution_count": null,
   "metadata": {
    "collapsed": true
   },
   "outputs": [],
   "source": [
    "def cifar_dataset(image_folder_path, label_file, b_size, num_images):\n",
    "#     images\n",
    "    all_images = []\n",
    "    for i in range(num_images):\n",
    "        image_path = image_folder_path + '/' + str(i) + '.png'\n",
    "        img = imageio.imread(image_path)\n",
    "        img = (img - img.mean()) / img.std()\n",
    "        all_images.append(img)\n",
    "        if i%1000 == 0:\n",
    "            print(\"Processed \" + str(i))\n",
    "        \n",
    "    all_images = np.array(all_images)\n",
    "    all_images = all_images.reshape((-1,256,256,3))\n",
    "    \n",
    "    dataset = tf.data.Dataset.from_tensor_slices((all_images)).batch(b_size)\n",
    "    \n",
    "#     labels\n",
    "    lf = open(label_file,'r')\n",
    "    labels = lf.read().split('\\n')\n",
    "    labels.remove('')\n",
    "    labels = list(map(int, labels))\n",
    "    print(len(labels))\n",
    "    labels = labels[:num_images]\n",
    "    labels = np.array(labels)\n",
    "    all_labels = tf.data.Dataset.from_tensor_slices((labels)).batch(b_size)\n",
    "            \n",
    "    return dataset, all_labels  "
   ]
  },
  {
   "cell_type": "code",
   "execution_count": null,
   "metadata": {
    "collapsed": true
   },
   "outputs": [],
   "source": [
    "class Convolution(tf.keras.Model):\n",
    "    def __init__(self, filters, size, stride, padding, activation, initializer ):\n",
    "        super(Convolution, self).__init__()\n",
    "        self.conv = tf.layers.Conv2D(filters=filters, kernel_size=size, strides=stride, padding=padding, activation=activation, kernel_initializer=initializer)\n",
    "#         self.conv = tf.layers.Conv2D(filters=filters, kernel_size=size, strides=stride, padding=padding, activation=activation)\n",
    "    \n",
    "    def call(self, inp):\n",
    "        return self.conv(inp)\n",
    "        "
   ]
  },
  {
   "cell_type": "code",
   "execution_count": null,
   "metadata": {
    "collapsed": true
   },
   "outputs": [],
   "source": [
    "class MaxPool(tf.keras.Model):\n",
    "    def __init__(self, size, stride, padding):\n",
    "        super(MaxPool, self).__init__()\n",
    "        self.pool = tf.layers.MaxPooling2D(pool_size = size, strides =stride, padding = padding)\n",
    "    \n",
    "    def call(self, inp):\n",
    "        return self.pool(inp)"
   ]
  },
  {
   "cell_type": "code",
   "execution_count": null,
   "metadata": {
    "collapsed": true
   },
   "outputs": [],
   "source": [
    "def lrn(x, radius, alpha, beta, bias=1.0):\n",
    "#     return tf.nn.local_response_normalization(x, depth_radius = radius, alpha = alpha, beta = beta, bias = bias)\n",
    "    return tf.nn.lrn(x, depth_radius = radius, alpha = alpha, beta = beta, bias = bias)"
   ]
  },
  {
   "cell_type": "code",
   "execution_count": null,
   "metadata": {
    "collapsed": true
   },
   "outputs": [],
   "source": [
    "class AlexNet(tf.keras.Model):\n",
    "    def __init__(self):\n",
    "        super(AlexNet, self).__init__()\n",
    "        self.conv1 = Convolution(96,11,4,'VALID',tf.nn.relu, tf.truncated_normal_initializer(stddev=0.01))\n",
    "        self.pool1 = MaxPool(3,2, 'VALID')\n",
    "        \n",
    "        self.conv2 = Convolution(256,5,1,'SAME',tf.nn.relu, tf.truncated_normal_initializer(stddev=0.01))\n",
    "        self.pool2 = MaxPool(3,2, 'VALID') \n",
    "        \n",
    "        self.conv3 = Convolution(384,3,1,'SAME',tf.nn.relu, tf.truncated_normal_initializer(stddev=0.01))\n",
    "        \n",
    "        self.conv4 = Convolution(384,3,1,'SAME',tf.nn.relu, tf.truncated_normal_initializer(stddev=0.01))\n",
    "        \n",
    "        self.conv5 = Convolution(256,3,1,'SAME',tf.nn.relu, tf.truncated_normal_initializer(stddev=0.01))\n",
    "        self.pool5 = MaxPool(3,2,'VALID')\n",
    "        \n",
    "#         to be replaced with attention\n",
    "        self.fc6 = tf.layers.Dense(4096, activation = tf.nn.relu)\n",
    "        self.fc7 = tf.layers.Dense(4096, activation = tf.nn.relu)\n",
    "        self.fc8 = tf.layers.Dense(num_classes, activation = None)\n",
    "    \n",
    "    def call(self, image):\n",
    "        conv1 = self.conv1(image)\n",
    "        pool1 = self.pool1(conv1)\n",
    "        norm1 = lrn( tf.cast(pool1, dtype = tf.float32), 2, 2e-05, 0.75)\n",
    "        \n",
    "        conv2 = self.conv2(norm1)\n",
    "        pool2 = self.pool2(conv2)\n",
    "        norm2 = lrn( tf.cast(pool2, dtype = tf.float32), 2, 2e-05, 0.75)\n",
    "        \n",
    "        conv3 = self.conv3(norm2)\n",
    "        \n",
    "        conv4 = self.conv4(conv3)\n",
    "        \n",
    "        conv5 = self.conv5(conv4)\n",
    "        pool5 = self.pool5(conv5)\n",
    "\n",
    "        # to be replaced        \n",
    "        fc6 = self.fc6(tf.layers.flatten(pool5))\n",
    "        fc6 = tf.nn.dropout(fc6, keep_prob = 0.5)\n",
    "        fc7 = self.fc7(fc6)\n",
    "        fc7 = tf.nn.dropout(fc7, keep_prob = 0.5)\n",
    "        fc8 = self.fc8(fc7)\n",
    "          \n",
    "        return fc8\n",
    "        \n",
    "    "
   ]
  },
  {
   "cell_type": "code",
   "execution_count": null,
   "metadata": {
    "collapsed": true
   },
   "outputs": [],
   "source": [
    "def prediction_loss_fun(model, data, labels):\n",
    "    logits = model(data)\n",
    "    loss = tf.nn.sparse_softmax_cross_entropy_with_logits(logits=logits, labels=labels)\n",
    "#     return tf.reduce_sum(loss)/tf.cast(data.shape[0], dtype = tf.float32)\n",
    "    return tf.reduce_mean(loss)"
   ]
  },
  {
   "cell_type": "code",
   "execution_count": null,
   "metadata": {
    "collapsed": true
   },
   "outputs": [],
   "source": [
    "def get_accuracy(model, data, labels):\n",
    "    pred = tf.nn.softmax(model(data))\n",
    "#     print(\"predicted..\")\n",
    "#     print(tf.argmax(pred, axis=1))\n",
    "#     print(\"actual..\")\n",
    "#     print(labels)\n",
    "    accuracy_val = tf.reduce_sum( tf.cast( tf.equal( tf.argmax(pred, axis=1), labels),dtype=tf.float32))/float(pred.shape[0].value)\n",
    "    return accuracy_val"
   ]
  },
  {
   "cell_type": "code",
   "execution_count": null,
   "metadata": {
    "collapsed": true
   },
   "outputs": [],
   "source": [
    "def shuffle_data(data, label):\n",
    "    idx = np.random.permutation(data.shape[0].value)\n",
    "    \n",
    "    datum = np.array(data)[idx]\n",
    "    datum = tf.convert_to_tensor(datum)\n",
    "    \n",
    "    lab = np.array(label)[idx]\n",
    "    lab = tf.convert_to_tensor(lab)\n",
    "    \n",
    "    return datum, lab"
   ]
  },
  {
   "cell_type": "code",
   "execution_count": null,
   "metadata": {
    "scrolled": true
   },
   "outputs": [],
   "source": [
    "dataset, labels = cifar_dataset(folder_path, label_path, batch_size, num_images)\n",
    "valid_data, val_labels = cifar_dataset(valid_folder, valid_label, 300, 300)\n",
    "val_data = next(iter(valid_data))\n",
    "val_lab = next(iter(val_labels))"
   ]
  },
  {
   "cell_type": "code",
   "execution_count": null,
   "metadata": {
    "collapsed": true
   },
   "outputs": [],
   "source": [
    "anet = AlexNet(learning_rate = 1e-4)"
   ]
  },
  {
   "cell_type": "code",
   "execution_count": null,
   "metadata": {
    "collapsed": true
   },
   "outputs": [],
   "source": [
    "# opt = tf.train.AdamOptimizer(tf.train.inverse_time_decay(0.01, 0,1, 0.0001))\n",
    "opt = tf.train.AdamOptimizer()\n",
    "# opt = tf.train.MomentumOptimizer(learning_rate=1e-4, momentum=0.9)"
   ]
  },
  {
   "cell_type": "code",
   "execution_count": null,
   "metadata": {
    "collapsed": true
   },
   "outputs": [],
   "source": [
    "loss_and_grads_fun = tfe.implicit_value_and_gradients(prediction_loss_fun)"
   ]
  },
  {
   "cell_type": "code",
   "execution_count": null,
   "metadata": {
    "collapsed": true
   },
   "outputs": [],
   "source": [
    "checkpoint_dir = '../pure_alexnet_model'\n",
    "checkpoint_prefix = os.path.join(checkpoint_dir, 'ckpt')\n",
    "root = tfe.Checkpoint(optimizer=opt, model=anet, optimizer_step=tf.train.get_or_create_global_step())"
   ]
  },
  {
   "cell_type": "code",
   "execution_count": null,
   "metadata": {
    "collapsed": true
   },
   "outputs": [],
   "source": [
    "def get_valid_acc(model, dataset, labels):\n",
    "    valid_acc = 0\n",
    "    valid_loss = 0\n",
    "    count = 0\n",
    "    for datum,lab in zip(dataset,labels):\n",
    "        count += 1\n",
    "        valid_loss += prediction_loss_fun(anet, datum, lab).numpy()\n",
    "        valid_acc += get_accuracy(anet, datum, lab).numpy()\n",
    "    return valid_loss/count, valid_acc/count"
   ]
  },
  {
   "cell_type": "code",
   "execution_count": null,
   "metadata": {
    "scrolled": false
   },
   "outputs": [],
   "source": [
    "NUM_EPOCHS = 5\n",
    "STATS_STEPS = 1\n",
    "\n",
    "# valid_loss, acc = get_valid_acc(anet, valid_data, val_labels)\n",
    "valid_loss = prediction_loss_fun(anet, val_data, val_lab).numpy()\n",
    "acc = get_accuracy(anet, val_data, val_lab).numpy()*100\n",
    "log_msg(f'Initial Valid loss: {valid_loss: 0.4f} accuracy: {acc: f}%')\n",
    "\n",
    "for epoch_num in range(NUM_EPOCHS):\n",
    "    print(\"Epoch : \" + str(epoch_num))\n",
    "    step_num = 0\n",
    "    for data, label in zip(dataset, labels):\n",
    "        step_num += 1\n",
    "#         shuffle\n",
    "        datum, lab = shuffle_data(data, label)\n",
    "    \n",
    "        loss_value, gradients = loss_and_grads_fun(anet, datum, lab)\n",
    "        opt.apply_gradients(gradients, global_step=tf.train.get_or_create_global_step())\n",
    "        \n",
    "#         opt.minimize(lambda: prediction_loss_fun(anet, datum, lab), global_step = tf.train.get_or_create_global_step())        \n",
    "        if (step_num % STATS_STEPS == 0) or (epoch_num == NUM_EPOCHS-1):\n",
    "            print(\"Stat step \" + str(step_num))\n",
    "            loss = prediction_loss_fun(anet, datum, lab).numpy()\n",
    "            accuracy = get_accuracy(anet, datum, lab).numpy()*100\n",
    "            log_msg(f'Epoch: {epoch_num} Step: {step_num} Train loss: {loss: 0.4f} accuracy: {accuracy: f}%') \n",
    "#             loss, accuracy = get_valid_acc(anet, valid_data, val_labels)\n",
    "            loss = prediction_loss_fun(anet, val_data, val_lab).numpy()\n",
    "            accuracy = get_accuracy(anet, val_data, val_lab).numpy()*100\n",
    "            log_msg(f'Epoch: {epoch_num} Step: {step_num} Valid loss: {loss: 0.4f} accuracy: {accuracy: f}%')\n",
    "            if loss < valid_loss:\n",
    "                print(\"Improvement in validation loss. Saving..\")\n",
    "                valid_loss = loss\n",
    "                save_path = root.save(checkpoint_prefix)"
   ]
  },
  {
   "cell_type": "code",
   "execution_count": null,
   "metadata": {
    "collapsed": true
   },
   "outputs": [],
   "source": [
    "checkpoint_dir = '../pure_alexnet_final_model'\n",
    "checkpoint_prefix = os.path.join(checkpoint_dir, 'ckpt')\n",
    "root = tfe.Checkpoint(optimizer=opt, model=anet, optimizer_step=tf.train.get_or_create_global_step())\n",
    "save_path = root.save(checkpoint_prefix)"
   ]
  },
  {
   "cell_type": "code",
   "execution_count": null,
   "metadata": {},
   "outputs": [],
   "source": [
    "# check test accuracy\n",
    "test_folder = '../data/filtered_test'\n",
    "test_file = '../data/filtered_test.csv'\n",
    "test_data, test_labels = cifar_dataset(test_folder, test_file, 500, 500)\n",
    "test_data = next(iter(test_data))\n",
    "test_lab = next(iter(test_labels))"
   ]
  },
  {
   "cell_type": "code",
   "execution_count": null,
   "metadata": {
    "collapsed": true
   },
   "outputs": [],
   "source": [
    "loss = prediction_loss_fun(anet, test_data, test_lab).numpy()\n",
    "accuracy = get_accuracy(anet, test_data, test_lab).numpy()*100"
   ]
  },
  {
   "cell_type": "code",
   "execution_count": null,
   "metadata": {},
   "outputs": [],
   "source": [
    "loss"
   ]
  },
  {
   "cell_type": "code",
   "execution_count": null,
   "metadata": {},
   "outputs": [],
   "source": [
    "accuracy"
   ]
  },
  {
   "cell_type": "code",
   "execution_count": null,
   "metadata": {
    "collapsed": true
   },
   "outputs": [],
   "source": []
  }
 ],
 "metadata": {
  "kernelspec": {
   "display_name": "Python 3",
   "language": "python",
   "name": "python3"
  },
  "language_info": {
   "codemirror_mode": {
    "name": "ipython",
    "version": 3
   },
   "file_extension": ".py",
   "mimetype": "text/x-python",
   "name": "python",
   "nbconvert_exporter": "python",
   "pygments_lexer": "ipython3",
   "version": "3.6.3"
  }
 },
 "nbformat": 4,
 "nbformat_minor": 2
}
